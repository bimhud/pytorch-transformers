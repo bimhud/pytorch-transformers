{
  "nbformat": 4,
  "nbformat_minor": 0,
  "metadata": {
    "colab": {
      "name": "Text_Classification_RoBERTa.ipynb",
      "provenance": [],
      "collapsed_sections": [],
      "include_colab_link": true
    },
    "kernelspec": {
      "name": "python3",
      "display_name": "Python 3"
    },
    "accelerator": "GPU"
  },
  "cells": [
    {
      "cell_type": "markdown",
      "metadata": {
        "id": "view-in-github",
        "colab_type": "text"
      },
      "source": [
        "<a href=\"https://colab.research.google.com/github/bimhud/pytorch-transformers/blob/master/notebook/Text_Classification_RoBERTa.ipynb\" target=\"_parent\"><img src=\"https://colab.research.google.com/assets/colab-badge.svg\" alt=\"Open In Colab\"/></a>"
      ]
    },
    {
      "cell_type": "code",
      "metadata": {
        "id": "yvMlDjs63TBG",
        "colab_type": "code",
        "colab": {}
      },
      "source": [
        "import pandas as pd\n",
        "import numpy as np\n",
        "import json, re\n",
        "from tqdm import tqdm_notebook\n",
        "from uuid import uuid4\n",
        "\n",
        "## Torch Modules\n",
        "import torch\n",
        "import torch.optim as optim\n",
        "import torch.nn as nn\n",
        "import torch.nn.functional as F\n",
        "from torch.autograd import Variable\n",
        "from torch.utils.data import Dataset, DataLoader\n"
      ],
      "execution_count": 0,
      "outputs": []
    },
    {
      "cell_type": "code",
      "metadata": {
        "id": "Cv55XV_oq4QZ",
        "colab_type": "code",
        "colab": {
          "base_uri": "https://localhost:8080/",
          "height": 722
        },
        "outputId": "d50050ff-bbbb-4226-943f-488bb5e2887e"
      },
      "source": [
        "!pip install -U pytorch-transformers"
      ],
      "execution_count": 4,
      "outputs": [
        {
          "output_type": "stream",
          "text": [
            "Collecting pytorch-transformers\n",
            "\u001b[?25l  Downloading https://files.pythonhosted.org/packages/a3/b7/d3d18008a67e0b968d1ab93ad444fc05699403fa662f634b2f2c318a508b/pytorch_transformers-1.2.0-py3-none-any.whl (176kB)\n",
            "\u001b[K     |████████████████████████████████| 184kB 2.8MB/s \n",
            "\u001b[?25hRequirement already satisfied, skipping upgrade: boto3 in /usr/local/lib/python3.6/dist-packages (from pytorch-transformers) (1.9.224)\n",
            "Collecting sacremoses (from pytorch-transformers)\n",
            "\u001b[?25l  Downloading https://files.pythonhosted.org/packages/df/24/0b86f494d3a5c7531f6d0c77d39fd8f9d42e651244505d3d737e31db9a4d/sacremoses-0.0.33.tar.gz (802kB)\n",
            "\u001b[K     |████████████████████████████████| 808kB 43.7MB/s \n",
            "\u001b[?25hRequirement already satisfied, skipping upgrade: tqdm in /usr/local/lib/python3.6/dist-packages (from pytorch-transformers) (4.28.1)\n",
            "Requirement already satisfied, skipping upgrade: torch>=1.0.0 in /usr/local/lib/python3.6/dist-packages (from pytorch-transformers) (1.1.0)\n",
            "Collecting sentencepiece (from pytorch-transformers)\n",
            "\u001b[?25l  Downloading https://files.pythonhosted.org/packages/14/3d/efb655a670b98f62ec32d66954e1109f403db4d937c50d779a75b9763a29/sentencepiece-0.1.83-cp36-cp36m-manylinux1_x86_64.whl (1.0MB)\n",
            "\u001b[K     |████████████████████████████████| 1.0MB 38.8MB/s \n",
            "\u001b[?25hRequirement already satisfied, skipping upgrade: requests in /usr/local/lib/python3.6/dist-packages (from pytorch-transformers) (2.21.0)\n",
            "Requirement already satisfied, skipping upgrade: numpy in /usr/local/lib/python3.6/dist-packages (from pytorch-transformers) (1.16.5)\n",
            "Collecting regex (from pytorch-transformers)\n",
            "\u001b[?25l  Downloading https://files.pythonhosted.org/packages/6f/a6/99eeb5904ab763db87af4bd71d9b1dfdd9792681240657a4c0a599c10a81/regex-2019.08.19.tar.gz (654kB)\n",
            "\u001b[K     |████████████████████████████████| 655kB 42.8MB/s \n",
            "\u001b[?25hRequirement already satisfied, skipping upgrade: s3transfer<0.3.0,>=0.2.0 in /usr/local/lib/python3.6/dist-packages (from boto3->pytorch-transformers) (0.2.1)\n",
            "Requirement already satisfied, skipping upgrade: botocore<1.13.0,>=1.12.224 in /usr/local/lib/python3.6/dist-packages (from boto3->pytorch-transformers) (1.12.224)\n",
            "Requirement already satisfied, skipping upgrade: jmespath<1.0.0,>=0.7.1 in /usr/local/lib/python3.6/dist-packages (from boto3->pytorch-transformers) (0.9.4)\n",
            "Requirement already satisfied, skipping upgrade: six in /usr/local/lib/python3.6/dist-packages (from sacremoses->pytorch-transformers) (1.12.0)\n",
            "Requirement already satisfied, skipping upgrade: click in /usr/local/lib/python3.6/dist-packages (from sacremoses->pytorch-transformers) (7.0)\n",
            "Requirement already satisfied, skipping upgrade: joblib in /usr/local/lib/python3.6/dist-packages (from sacremoses->pytorch-transformers) (0.13.2)\n",
            "Requirement already satisfied, skipping upgrade: urllib3<1.25,>=1.21.1 in /usr/local/lib/python3.6/dist-packages (from requests->pytorch-transformers) (1.24.3)\n",
            "Requirement already satisfied, skipping upgrade: idna<2.9,>=2.5 in /usr/local/lib/python3.6/dist-packages (from requests->pytorch-transformers) (2.8)\n",
            "Requirement already satisfied, skipping upgrade: certifi>=2017.4.17 in /usr/local/lib/python3.6/dist-packages (from requests->pytorch-transformers) (2019.6.16)\n",
            "Requirement already satisfied, skipping upgrade: chardet<3.1.0,>=3.0.2 in /usr/local/lib/python3.6/dist-packages (from requests->pytorch-transformers) (3.0.4)\n",
            "Requirement already satisfied, skipping upgrade: docutils<0.16,>=0.10 in /usr/local/lib/python3.6/dist-packages (from botocore<1.13.0,>=1.12.224->boto3->pytorch-transformers) (0.15.2)\n",
            "Requirement already satisfied, skipping upgrade: python-dateutil<3.0.0,>=2.1; python_version >= \"2.7\" in /usr/local/lib/python3.6/dist-packages (from botocore<1.13.0,>=1.12.224->boto3->pytorch-transformers) (2.5.3)\n",
            "Building wheels for collected packages: sacremoses, regex\n",
            "  Building wheel for sacremoses (setup.py) ... \u001b[?25l\u001b[?25hdone\n",
            "  Created wheel for sacremoses: filename=sacremoses-0.0.33-cp36-none-any.whl size=833106 sha256=245901e68cfa928189929216a6976dd8f8e5ef0a1555f92e54cb69f4827d73df\n",
            "  Stored in directory: /root/.cache/pip/wheels/70/87/56/e40575cca30d12fee8875d523b8878b7aba866a9f03b2fd983\n",
            "  Building wheel for regex (setup.py) ... \u001b[?25l\u001b[?25hdone\n",
            "  Created wheel for regex: filename=regex-2019.8.19-cp36-cp36m-linux_x86_64.whl size=609261 sha256=23f0f950a31c077258d25b38d0e835dbaeba03d534f5f180a751a0db5e73e27e\n",
            "  Stored in directory: /root/.cache/pip/wheels/90/04/07/b5010fb816721eb3d6dd64ed5cc8111ca23f97fdab8619b5be\n",
            "Successfully built sacremoses regex\n",
            "Installing collected packages: sacremoses, sentencepiece, regex, pytorch-transformers\n",
            "Successfully installed pytorch-transformers-1.2.0 regex-2019.8.19 sacremoses-0.0.33 sentencepiece-0.1.83\n"
          ],
          "name": "stdout"
        }
      ]
    },
    {
      "cell_type": "code",
      "metadata": {
        "id": "UFaPT_uM5YJL",
        "colab_type": "code",
        "colab": {}
      },
      "source": [
        "## PyTorch Transformer\n",
        "from pytorch_transformers import RobertaModel, RobertaTokenizer\n",
        "from pytorch_transformers import RobertaForSequenceClassification, RobertaConfig"
      ],
      "execution_count": 0,
      "outputs": []
    },
    {
      "cell_type": "code",
      "metadata": {
        "id": "-MgxUIfHq8Fm",
        "colab_type": "code",
        "colab": {}
      },
      "source": [
        ""
      ],
      "execution_count": 0,
      "outputs": []
    },
    {
      "cell_type": "code",
      "metadata": {
        "id": "KRzo1v6D4O2t",
        "colab_type": "code",
        "outputId": "a91049a3-00b2-4f2b-abb8-dff179db6938",
        "colab": {
          "base_uri": "https://localhost:8080/",
          "height": 34
        }
      },
      "source": [
        "## Check if Cuda is Available\n",
        "print(torch.cuda.is_available())"
      ],
      "execution_count": 6,
      "outputs": [
        {
          "output_type": "stream",
          "text": [
            "True\n"
          ],
          "name": "stdout"
        }
      ]
    },
    {
      "cell_type": "code",
      "metadata": {
        "id": "OGnE-bXo3-77",
        "colab_type": "code",
        "colab": {}
      },
      "source": [
        "## Install PyTorch-Transformer"
      ],
      "execution_count": 0,
      "outputs": []
    },
    {
      "cell_type": "code",
      "metadata": {
        "id": "Put6o1wF3-yk",
        "colab_type": "code",
        "colab": {
          "base_uri": "https://localhost:8080/",
          "height": 148
        },
        "outputId": "f4d7f053-73a7-4a3a-a13f-7e7f30672827"
      },
      "source": [
        "!git clone https://github.com/snipsco/nlu-benchmark.git"
      ],
      "execution_count": 7,
      "outputs": [
        {
          "output_type": "stream",
          "text": [
            "Cloning into 'nlu-benchmark'...\n",
            "remote: Enumerating objects: 11, done.\u001b[K\n",
            "remote: Counting objects: 100% (11/11), done.\u001b[K\n",
            "remote: Compressing objects: 100% (9/9), done.\u001b[K\n",
            "remote: Total 389 (delta 2), reused 11 (delta 2), pack-reused 378\u001b[K\n",
            "Receiving objects: 100% (389/389), 1.24 MiB | 10.55 MiB/s, done.\n",
            "Resolving deltas: 100% (242/242), done.\n"
          ],
          "name": "stdout"
        }
      ]
    },
    {
      "cell_type": "code",
      "metadata": {
        "id": "hkRqK2sM3evs",
        "colab_type": "code",
        "colab": {}
      },
      "source": [
        "## Importing Datasets"
      ],
      "execution_count": 0,
      "outputs": []
    },
    {
      "cell_type": "code",
      "metadata": {
        "id": "HIqwXlCy4g-U",
        "colab_type": "code",
        "outputId": "634005f0-488d-44c0-d557-1f922f455d43",
        "colab": {
          "base_uri": "https://localhost:8080/",
          "height": 80
        }
      },
      "source": [
        "!ls  nlu-benchmark/2017-06-custom-intent-engines"
      ],
      "execution_count": 8,
      "outputs": [
        {
          "output_type": "stream",
          "text": [
            "AddToPlaylist\tGetWeather  RateBook   SearchCreativeWork\n",
            "BookRestaurant\tPlayMusic   README.md  SearchScreeningEvent\n"
          ],
          "name": "stdout"
        }
      ]
    },
    {
      "cell_type": "code",
      "metadata": {
        "id": "uudmDs_U39YL",
        "colab_type": "code",
        "colab": {}
      },
      "source": [
        "dataset_path = \"nlu-benchmark/2017-06-custom-intent-engines\""
      ],
      "execution_count": 0,
      "outputs": []
    },
    {
      "cell_type": "code",
      "metadata": {
        "id": "mJi5RkLC4WsV",
        "colab_type": "code",
        "outputId": "aa795c30-da7a-4301-d571-678d737d1dd1",
        "colab": {
          "base_uri": "https://localhost:8080/",
          "height": 136
        }
      },
      "source": [
        "import os\n",
        "dataset = pd.DataFrame(columns = ['utterance', 'label'])\n",
        "for intent in ['AddToPlaylist', 'BookRestaurant', 'GetWeather', 'PlayMusic', 'RateBook', 'SearchCreativeWork',\n",
        "               'SearchScreeningEvent']:\n",
        "    with open(dataset_path + os.sep + intent + os.sep +  \"train_\" + intent + \".json\",\n",
        "              encoding='cp1251') as data_file:\n",
        "        data = json.load(data_file)\n",
        "    print(\"Class: {}, # utterances: {}\".format(intent,len(data[intent])))\n",
        "    texts = []\n",
        "    for i in range(len(data[intent])):\n",
        "        text = ''\n",
        "        for j in range(len(data[intent][i]['data'])):\n",
        "            text += data[intent][i]['data'][j]['text']\n",
        "        dataset = dataset.append({'utterance': text, 'label': intent}, ignore_index=True)"
      ],
      "execution_count": 10,
      "outputs": [
        {
          "output_type": "stream",
          "text": [
            "Class: AddToPlaylist, # utterances: 300\n",
            "Class: BookRestaurant, # utterances: 300\n",
            "Class: GetWeather, # utterances: 300\n",
            "Class: PlayMusic, # utterances: 300\n",
            "Class: RateBook, # utterances: 300\n",
            "Class: SearchCreativeWork, # utterances: 300\n",
            "Class: SearchScreeningEvent, # utterances: 300\n"
          ],
          "name": "stdout"
        }
      ]
    },
    {
      "cell_type": "code",
      "metadata": {
        "id": "gvNXPtT-4Xed",
        "colab_type": "code",
        "outputId": "0b53e92f-1574-4a07-b1bd-46575aec56dc",
        "colab": {
          "base_uri": "https://localhost:8080/",
          "height": 136
        }
      },
      "source": [
        "#Get index from multiple labels\n",
        "label_to_ix = {}\n",
        "for label in dataset.label:\n",
        "    for word in label.split():\n",
        "        if word not in label_to_ix:\n",
        "            label_to_ix[word]=len(label_to_ix)\n",
        "label_to_ix"
      ],
      "execution_count": 11,
      "outputs": [
        {
          "output_type": "execute_result",
          "data": {
            "text/plain": [
              "{'AddToPlaylist': 0,\n",
              " 'BookRestaurant': 1,\n",
              " 'GetWeather': 2,\n",
              " 'PlayMusic': 3,\n",
              " 'RateBook': 4,\n",
              " 'SearchCreativeWork': 5,\n",
              " 'SearchScreeningEvent': 6}"
            ]
          },
          "metadata": {
            "tags": []
          },
          "execution_count": 11
        }
      ]
    },
    {
      "cell_type": "code",
      "metadata": {
        "id": "2FtiQj3n5Qqo",
        "colab_type": "code",
        "colab": {}
      },
      "source": [
        "## Loading RoBERTa classes"
      ],
      "execution_count": 0,
      "outputs": []
    },
    {
      "cell_type": "code",
      "metadata": {
        "id": "0ALqUM9f5Qnx",
        "colab_type": "code",
        "outputId": "a33ea49f-d940-4ffe-bc0a-e0d44092128b",
        "colab": {
          "base_uri": "https://localhost:8080/",
          "height": 374
        }
      },
      "source": [
        "config = RobertaConfig.from_pretrained('roberta-base')\n",
        "config.num_labels = len(list(label_to_ix.values()))\n",
        "config"
      ],
      "execution_count": 13,
      "outputs": [
        {
          "output_type": "stream",
          "text": [
            "100%|██████████| 473/473 [00:00<00:00, 200010.67B/s]\n"
          ],
          "name": "stderr"
        },
        {
          "output_type": "execute_result",
          "data": {
            "text/plain": [
              "{\n",
              "  \"attention_probs_dropout_prob\": 0.1,\n",
              "  \"finetuning_task\": null,\n",
              "  \"hidden_act\": \"gelu\",\n",
              "  \"hidden_dropout_prob\": 0.1,\n",
              "  \"hidden_size\": 768,\n",
              "  \"initializer_range\": 0.02,\n",
              "  \"intermediate_size\": 3072,\n",
              "  \"layer_norm_eps\": 1e-05,\n",
              "  \"max_position_embeddings\": 514,\n",
              "  \"num_attention_heads\": 12,\n",
              "  \"num_hidden_layers\": 12,\n",
              "  \"num_labels\": 7,\n",
              "  \"output_attentions\": false,\n",
              "  \"output_hidden_states\": false,\n",
              "  \"pruned_heads\": {},\n",
              "  \"torchscript\": false,\n",
              "  \"type_vocab_size\": 1,\n",
              "  \"vocab_size\": 50265\n",
              "}"
            ]
          },
          "metadata": {
            "tags": []
          },
          "execution_count": 13
        }
      ]
    },
    {
      "cell_type": "code",
      "metadata": {
        "id": "b65wR6MO5Qkm",
        "colab_type": "code",
        "colab": {
          "base_uri": "https://localhost:8080/",
          "height": 51
        },
        "outputId": "ac12abb5-a2aa-4aea-b7b3-6969bda3f9bf"
      },
      "source": [
        "tokenizer = RobertaTokenizer.from_pretrained('roberta-base')\n",
        "model = RobertaForSequenceClassification(config)"
      ],
      "execution_count": 14,
      "outputs": [
        {
          "output_type": "stream",
          "text": [
            "100%|██████████| 898823/898823 [00:00<00:00, 11059490.21B/s]\n",
            "100%|██████████| 456318/456318 [00:00<00:00, 7037203.60B/s]\n"
          ],
          "name": "stderr"
        }
      ]
    },
    {
      "cell_type": "code",
      "metadata": {
        "id": "ZGKN5aD85Bje",
        "colab_type": "code",
        "colab": {}
      },
      "source": [
        "## Feature Preparation"
      ],
      "execution_count": 0,
      "outputs": []
    },
    {
      "cell_type": "code",
      "metadata": {
        "id": "qf0ATRkF5LEx",
        "colab_type": "code",
        "colab": {}
      },
      "source": [
        "def prepare_features(seq_1, max_seq_length = 300, \n",
        "             zero_pad = False, include_CLS_token = True, include_SEP_token = True):\n",
        "    ## Tokenzine Input\n",
        "    tokens_a = tokenizer.tokenize(seq_1)\n",
        "\n",
        "    ## Truncate\n",
        "    if len(tokens_a) > max_seq_length - 2:\n",
        "        tokens_a = tokens_a[0:(max_seq_length - 2)]\n",
        "    ## Initialize Tokens\n",
        "    tokens = []\n",
        "    if include_CLS_token:\n",
        "        tokens.append(tokenizer.cls_token)\n",
        "    ## Add Tokens and separators\n",
        "    for token in tokens_a:\n",
        "        tokens.append(token)\n",
        "\n",
        "    if include_SEP_token:\n",
        "        tokens.append(tokenizer.sep_token)\n",
        "\n",
        "    input_ids = tokenizer.convert_tokens_to_ids(tokens)\n",
        "    ## Input Mask \n",
        "    input_mask = [1] * len(input_ids)\n",
        "    ## Zero-pad sequence lenght\n",
        "    if zero_pad:\n",
        "        while len(input_ids) < max_seq_length:\n",
        "            input_ids.append(0)\n",
        "            input_mask.append(0)\n",
        "    return torch.tensor(input_ids).unsqueeze(0), input_mask"
      ],
      "execution_count": 0,
      "outputs": []
    },
    {
      "cell_type": "code",
      "metadata": {
        "id": "JDx-QxmX5Muc",
        "colab_type": "code",
        "outputId": "b50e1291-09ed-4f0e-a374-fd8f98921619",
        "colab": {
          "base_uri": "https://localhost:8080/",
          "height": 51
        }
      },
      "source": [
        "msg = \"My dog is cute!\"\n",
        "prepare_features(msg)"
      ],
      "execution_count": 17,
      "outputs": [
        {
          "output_type": "execute_result",
          "data": {
            "text/plain": [
              "(tensor([[    0,  1308,  2335,    16, 11962,   328,     2]]),\n",
              " [1, 1, 1, 1, 1, 1, 1])"
            ]
          },
          "metadata": {
            "tags": []
          },
          "execution_count": 17
        }
      ]
    },
    {
      "cell_type": "code",
      "metadata": {
        "id": "4pNqrigh5OIZ",
        "colab_type": "code",
        "colab": {}
      },
      "source": [
        "## Dataset Loader Classes"
      ],
      "execution_count": 0,
      "outputs": []
    },
    {
      "cell_type": "code",
      "metadata": {
        "id": "Pexochza5lZq",
        "colab_type": "code",
        "colab": {}
      },
      "source": [
        "class Intents(Dataset):\n",
        "    def __init__(self, dataframe):\n",
        "        self.len = len(dataframe)\n",
        "        self.data = dataframe\n",
        "        \n",
        "    def __getitem__(self, index):\n",
        "        utterance = self.data.utterance[index]\n",
        "        label = self.data.label[index]\n",
        "        X, _  = prepare_features(utterance)\n",
        "        y = label_to_ix[self.data.label[index]]\n",
        "        return X, y\n",
        "    \n",
        "    def __len__(self):\n",
        "        return self.len"
      ],
      "execution_count": 0,
      "outputs": []
    },
    {
      "cell_type": "code",
      "metadata": {
        "id": "oCiCHdRL5mH1",
        "colab_type": "code",
        "colab": {}
      },
      "source": [
        "train_size = 0.8\n",
        "train_dataset=dataset.sample(frac=train_size,random_state=200).reset_index(drop=True)\n",
        "test_dataset=dataset.drop(train_dataset.index).reset_index(drop=True)"
      ],
      "execution_count": 0,
      "outputs": []
    },
    {
      "cell_type": "code",
      "metadata": {
        "id": "fqOFntri5yW-",
        "colab_type": "code",
        "outputId": "ff099b1c-8398-4223-ec88-2368703e20df",
        "colab": {
          "base_uri": "https://localhost:8080/",
          "height": 68
        }
      },
      "source": [
        "print(\"FULL Dataset: {}\".format(dataset.shape))\n",
        "print(\"TRAIN Dataset: {}\".format(train_dataset.shape))\n",
        "print(\"TEST Dataset: {}\".format(test_dataset.shape))"
      ],
      "execution_count": 21,
      "outputs": [
        {
          "output_type": "stream",
          "text": [
            "FULL Dataset: (2100, 2)\n",
            "TRAIN Dataset: (1680, 2)\n",
            "TEST Dataset: (420, 2)\n"
          ],
          "name": "stdout"
        }
      ]
    },
    {
      "cell_type": "code",
      "metadata": {
        "id": "zJkGxTWZ5z5d",
        "colab_type": "code",
        "colab": {}
      },
      "source": [
        "training_set = Intents(train_dataset)\n",
        "testing_set = Intents(test_dataset)"
      ],
      "execution_count": 0,
      "outputs": []
    },
    {
      "cell_type": "code",
      "metadata": {
        "id": "guYUIlVN51gE",
        "colab_type": "code",
        "outputId": "f0a5b263-b5aa-4d5b-cab5-4012feb86660",
        "colab": {
          "base_uri": "https://localhost:8080/",
          "height": 34
        }
      },
      "source": [
        "training_set.__getitem__(0)[0].shape"
      ],
      "execution_count": 23,
      "outputs": [
        {
          "output_type": "execute_result",
          "data": {
            "text/plain": [
              "torch.Size([1, 8])"
            ]
          },
          "metadata": {
            "tags": []
          },
          "execution_count": 23
        }
      ]
    },
    {
      "cell_type": "code",
      "metadata": {
        "id": "iuCpzlBq52qV",
        "colab_type": "code",
        "outputId": "8eefe7d0-d9f3-492c-b9e9-95651dcf1d3d",
        "colab": {
          "base_uri": "https://localhost:8080/",
          "height": 51
        }
      },
      "source": [
        "model(training_set.__getitem__(0)[0])"
      ],
      "execution_count": 24,
      "outputs": [
        {
          "output_type": "execute_result",
          "data": {
            "text/plain": [
              "(tensor([[ 0.1118,  0.3384,  0.1381,  0.0139,  0.0683, -0.0736,  0.1751]],\n",
              "        grad_fn=<AddmmBackward>),)"
            ]
          },
          "metadata": {
            "tags": []
          },
          "execution_count": 24
        }
      ]
    },
    {
      "cell_type": "code",
      "metadata": {
        "id": "Z3SH63pK5339",
        "colab_type": "code",
        "colab": {}
      },
      "source": [
        "## Training Params"
      ],
      "execution_count": 0,
      "outputs": []
    },
    {
      "cell_type": "code",
      "metadata": {
        "id": "yYQq5eSi55mZ",
        "colab_type": "code",
        "colab": {}
      },
      "source": [
        "device = torch.device(\"cuda\" if torch.cuda.is_available() else \"cpu\")\n",
        "model = model.cuda()"
      ],
      "execution_count": 0,
      "outputs": []
    },
    {
      "cell_type": "code",
      "metadata": {
        "id": "H6MIe-fe6PY2",
        "colab_type": "code",
        "colab": {}
      },
      "source": [
        "# Parameters\n",
        "params = {'batch_size': 1,\n",
        "          'shuffle': True,\n",
        "          'num_workers': 1}"
      ],
      "execution_count": 0,
      "outputs": []
    },
    {
      "cell_type": "code",
      "metadata": {
        "id": "egs1bYCe6UOL",
        "colab_type": "code",
        "colab": {}
      },
      "source": [
        "training_loader = DataLoader(training_set, **params)\n",
        "testing_loader = DataLoader(testing_set, **params)"
      ],
      "execution_count": 0,
      "outputs": []
    },
    {
      "cell_type": "code",
      "metadata": {
        "id": "0RfrS14A6WGV",
        "colab_type": "code",
        "colab": {}
      },
      "source": [
        "loss_function = nn.CrossEntropyLoss()\n",
        "learning_rate = 1e-05\n",
        "optimizer = optim.Adam(params =  model.parameters(), lr=learning_rate)"
      ],
      "execution_count": 0,
      "outputs": []
    },
    {
      "cell_type": "code",
      "metadata": {
        "id": "-n3p7ncn6Xst",
        "colab_type": "code",
        "outputId": "341af8db-9ce7-4da6-9ca7-9c6198ea527f",
        "colab": {
          "base_uri": "https://localhost:8080/",
          "height": 34
        }
      },
      "source": [
        "## Test Forward Pass\n",
        "inp = training_set.__getitem__(0)[0].cuda()\n",
        "output = model(inp)[0]\n",
        "torch.max(output.data, 1)"
      ],
      "execution_count": 29,
      "outputs": [
        {
          "output_type": "execute_result",
          "data": {
            "text/plain": [
              "torch.return_types.max(values=tensor([0.4816], device='cuda:0'), indices=tensor([6], device='cuda:0'))"
            ]
          },
          "metadata": {
            "tags": []
          },
          "execution_count": 29
        }
      ]
    },
    {
      "cell_type": "code",
      "metadata": {
        "id": "xoRJhLY06evJ",
        "colab_type": "code",
        "outputId": "39f989c6-044e-419b-993e-4a1fe45f634d",
        "colab": {
          "base_uri": "https://localhost:8080/",
          "height": 952
        }
      },
      "source": [
        "max_epochs = 3\n",
        "model = model.train()\n",
        "for epoch in tqdm_notebook(range(max_epochs)):\n",
        "    print(\"EPOCH -- {}\".format(epoch))\n",
        "    for i, (sent, label) in enumerate(training_loader):\n",
        "        optimizer.zero_grad()\n",
        "        sent = sent.squeeze(0)\n",
        "        if torch.cuda.is_available():\n",
        "          sent = sent.cuda()\n",
        "          label = label.cuda()\n",
        "        output = model.forward(sent)[0]\n",
        "        _, predicted = torch.max(output, 1)\n",
        "        \n",
        "        loss = loss_function(output, label)\n",
        "        loss.backward()\n",
        "        optimizer.step()\n",
        "        \n",
        "        if i%100 == 0:\n",
        "            correct = 0\n",
        "            total = 0\n",
        "            for sent, label in testing_loader:\n",
        "                sent = sent.squeeze(0)\n",
        "                if torch.cuda.is_available():\n",
        "                  sent = sent.cuda()\n",
        "                  label = label.cuda()\n",
        "                output = model.forward(sent)[0]\n",
        "                _, predicted = torch.max(output.data, 1)\n",
        "                total += label.size(0)\n",
        "                correct += (predicted.cpu() == label.cpu()).sum()\n",
        "            accuracy = 100.00 * correct.numpy() / total\n",
        "            print('Iteration: {}. Loss: {}. Accuracy: {}%'.format(i, loss.item(), accuracy))"
      ],
      "execution_count": 30,
      "outputs": [
        {
          "output_type": "display_data",
          "data": {
            "application/vnd.jupyter.widget-view+json": {
              "model_id": "4d9d6fc20e6049e5a55955dfbacaf686",
              "version_minor": 0,
              "version_major": 2
            },
            "text/plain": [
              "HBox(children=(IntProgress(value=0, max=3), HTML(value='')))"
            ]
          },
          "metadata": {
            "tags": []
          }
        },
        {
          "output_type": "stream",
          "text": [
            "EPOCH -- 0\n",
            "Iteration: 0. Loss: 2.258636236190796. Accuracy: 28.095238095238095%\n",
            "Iteration: 100. Loss: 1.5868463516235352. Accuracy: 21.19047619047619%\n",
            "Iteration: 200. Loss: 1.3071141242980957. Accuracy: 63.80952380952381%\n",
            "Iteration: 300. Loss: 2.0553653240203857. Accuracy: 0.0%\n",
            "Iteration: 400. Loss: 2.2822792530059814. Accuracy: 9.285714285714286%\n",
            "Iteration: 500. Loss: 1.7432736158370972. Accuracy: 26.428571428571427%\n",
            "Iteration: 600. Loss: 0.5579929351806641. Accuracy: 22.61904761904762%\n",
            "Iteration: 700. Loss: 0.49189186096191406. Accuracy: 57.142857142857146%\n",
            "Iteration: 800. Loss: 0.37926673889160156. Accuracy: 47.38095238095238%\n",
            "Iteration: 900. Loss: 0.0850529670715332. Accuracy: 20.0%\n",
            "Iteration: 1000. Loss: 0.4579188823699951. Accuracy: 56.19047619047619%\n",
            "Iteration: 1100. Loss: 0.04705810546875. Accuracy: 69.28571428571429%\n",
            "Iteration: 1200. Loss: 0.17160773277282715. Accuracy: 68.57142857142857%\n",
            "Iteration: 1300. Loss: 0.5571842193603516. Accuracy: 82.38095238095238%\n",
            "Iteration: 1400. Loss: 0.029578685760498047. Accuracy: 62.61904761904762%\n",
            "Iteration: 1500. Loss: 0.08477163314819336. Accuracy: 79.52380952380952%\n",
            "Iteration: 1600. Loss: 0.027060985565185547. Accuracy: 92.85714285714286%\n",
            "EPOCH -- 1\n",
            "Iteration: 0. Loss: 0.20489215850830078. Accuracy: 96.66666666666667%\n",
            "Iteration: 100. Loss: 0.038535118103027344. Accuracy: 94.28571428571429%\n",
            "Iteration: 200. Loss: 0.08430814743041992. Accuracy: 92.14285714285714%\n",
            "Iteration: 300. Loss: 0.022081851959228516. Accuracy: 97.61904761904762%\n",
            "Iteration: 400. Loss: 0.10550069808959961. Accuracy: 85.0%\n",
            "Iteration: 500. Loss: 0.05411815643310547. Accuracy: 57.857142857142854%\n",
            "Iteration: 600. Loss: 0.008541584014892578. Accuracy: 93.0952380952381%\n",
            "Iteration: 700. Loss: 0.7201776504516602. Accuracy: 93.33333333333333%\n",
            "Iteration: 800. Loss: 2.153907060623169. Accuracy: 80.23809523809524%\n",
            "Iteration: 900. Loss: 0.0084228515625. Accuracy: 98.80952380952381%\n",
            "Iteration: 1000. Loss: 2.647421360015869. Accuracy: 76.19047619047619%\n",
            "Iteration: 1100. Loss: 0.011950969696044922. Accuracy: 88.33333333333333%\n",
            "Iteration: 1200. Loss: 0.01857280731201172. Accuracy: 99.04761904761905%\n",
            "Iteration: 1300. Loss: 0.013163089752197266. Accuracy: 99.52380952380952%\n",
            "Iteration: 1400. Loss: 0.15494537353515625. Accuracy: 73.57142857142857%\n",
            "Iteration: 1500. Loss: 6.333244323730469. Accuracy: 98.0952380952381%\n",
            "Iteration: 1600. Loss: 0.07130885124206543. Accuracy: 82.61904761904762%\n",
            "EPOCH -- 2\n",
            "Iteration: 0. Loss: 0.07985782623291016. Accuracy: 92.38095238095238%\n",
            "Iteration: 100. Loss: 0.007236003875732422. Accuracy: 98.80952380952381%\n",
            "Iteration: 200. Loss: 0.02181863784790039. Accuracy: 98.0952380952381%\n",
            "Iteration: 300. Loss: 0.03353166580200195. Accuracy: 92.38095238095238%\n",
            "Iteration: 400. Loss: 4.613968372344971. Accuracy: 90.23809523809524%\n",
            "Iteration: 500. Loss: 0.006684303283691406. Accuracy: 98.80952380952381%\n",
            "Iteration: 600. Loss: 0.005105018615722656. Accuracy: 99.52380952380952%\n",
            "Iteration: 700. Loss: 0.0330047607421875. Accuracy: 92.85714285714286%\n",
            "Iteration: 800. Loss: 0.009159564971923828. Accuracy: 95.23809523809524%\n",
            "Iteration: 900. Loss: 0.23496437072753906. Accuracy: 71.19047619047619%\n",
            "Iteration: 1000. Loss: 0.0081939697265625. Accuracy: 99.04761904761905%\n",
            "Iteration: 1100. Loss: 0.006295204162597656. Accuracy: 94.76190476190476%\n",
            "Iteration: 1200. Loss: 0.0036444664001464844. Accuracy: 98.33333333333333%\n",
            "Iteration: 1300. Loss: 0.009593963623046875. Accuracy: 98.57142857142857%\n",
            "Iteration: 1400. Loss: 0.005762577056884766. Accuracy: 99.52380952380952%\n",
            "Iteration: 1500. Loss: 2.734719753265381. Accuracy: 98.33333333333333%\n",
            "Iteration: 1600. Loss: 0.007322788238525391. Accuracy: 98.80952380952381%\n",
            "\n"
          ],
          "name": "stdout"
        }
      ]
    },
    {
      "cell_type": "code",
      "metadata": {
        "id": "7kGsqX5zy_RO",
        "colab_type": "code",
        "colab": {}
      },
      "source": [
        "!mkdir nlu-benchmark/2017-06-custom-intent-engines/RoBerta_Model"
      ],
      "execution_count": 0,
      "outputs": []
    },
    {
      "cell_type": "code",
      "metadata": {
        "id": "9AhmsnJO6ucy",
        "colab_type": "code",
        "colab": {}
      },
      "source": [
        " torch.save(model.state_dict(), 'nlu-benchmark/2017-06-custom-intent-engines/RoBerta_Model/roberta_state_dict_'+ str(uuid4())+'.pth')"
      ],
      "execution_count": 0,
      "outputs": []
    },
    {
      "cell_type": "code",
      "metadata": {
        "id": "MF3kteN5-Quh",
        "colab_type": "code",
        "outputId": "147ca4dd-994b-4921-8fda-635c4ca1e89e",
        "colab": {
          "base_uri": "https://localhost:8080/",
          "height": 204
        }
      },
      "source": [
        "dataset.tail(5)"
      ],
      "execution_count": 33,
      "outputs": [
        {
          "output_type": "execute_result",
          "data": {
            "text/html": [
              "<div>\n",
              "<style scoped>\n",
              "    .dataframe tbody tr th:only-of-type {\n",
              "        vertical-align: middle;\n",
              "    }\n",
              "\n",
              "    .dataframe tbody tr th {\n",
              "        vertical-align: top;\n",
              "    }\n",
              "\n",
              "    .dataframe thead th {\n",
              "        text-align: right;\n",
              "    }\n",
              "</style>\n",
              "<table border=\"1\" class=\"dataframe\">\n",
              "  <thead>\n",
              "    <tr style=\"text-align: right;\">\n",
              "      <th></th>\n",
              "      <th>utterance</th>\n",
              "      <th>label</th>\n",
              "    </tr>\n",
              "  </thead>\n",
              "  <tbody>\n",
              "    <tr>\n",
              "      <th>2095</th>\n",
              "      <td>Is Across the Line playing at the closest movi...</td>\n",
              "      <td>SearchScreeningEvent</td>\n",
              "    </tr>\n",
              "    <tr>\n",
              "      <th>2096</th>\n",
              "      <td>Which animated movies are playing in the neigh...</td>\n",
              "      <td>SearchScreeningEvent</td>\n",
              "    </tr>\n",
              "    <tr>\n",
              "      <th>2097</th>\n",
              "      <td>Where is They Always Return at Dawn playing</td>\n",
              "      <td>SearchScreeningEvent</td>\n",
              "    </tr>\n",
              "    <tr>\n",
              "      <th>2098</th>\n",
              "      <td>What is the movie schedule in the neighborhood</td>\n",
              "      <td>SearchScreeningEvent</td>\n",
              "    </tr>\n",
              "    <tr>\n",
              "      <th>2099</th>\n",
              "      <td>Tell me when Howling II: Your Sister Is a Were...</td>\n",
              "      <td>SearchScreeningEvent</td>\n",
              "    </tr>\n",
              "  </tbody>\n",
              "</table>\n",
              "</div>"
            ],
            "text/plain": [
              "                                              utterance                 label\n",
              "2095  Is Across the Line playing at the closest movi...  SearchScreeningEvent\n",
              "2096  Which animated movies are playing in the neigh...  SearchScreeningEvent\n",
              "2097        Where is They Always Return at Dawn playing  SearchScreeningEvent\n",
              "2098     What is the movie schedule in the neighborhood  SearchScreeningEvent\n",
              "2099  Tell me when Howling II: Your Sister Is a Were...  SearchScreeningEvent"
            ]
          },
          "metadata": {
            "tags": []
          },
          "execution_count": 33
        }
      ]
    },
    {
      "cell_type": "code",
      "metadata": {
        "id": "TS2_j3qyh2hA",
        "colab_type": "code",
        "colab": {
          "base_uri": "https://localhost:8080/",
          "height": 46
        },
        "outputId": "6dec28e5-4e2b-4da2-8ec5-170b1190ed12"
      },
      "source": [
        "## Load model\n",
        "!ls nlu-benchmark/2017-06-custom-intent-engines/RoBerta_Model"
      ],
      "execution_count": 35,
      "outputs": [
        {
          "output_type": "stream",
          "text": [
            "roberta_state_dict_4fd91890-1424-41fb-8a7a-059fc60bc379.pth\n"
          ],
          "name": "stdout"
        }
      ]
    },
    {
      "cell_type": "code",
      "metadata": {
        "id": "1sRpJDMDiA7N",
        "colab_type": "code",
        "colab": {}
      },
      "source": [
        "model_path = 'nlu-benchmark/2017-06-custom-intent-engines/RoBerta_Model/roberta_state_dict_4fd91890-1424-41fb-8a7a-059fc60bc379.pth'"
      ],
      "execution_count": 0,
      "outputs": []
    },
    {
      "cell_type": "code",
      "metadata": {
        "id": "zswPnTBBh9to",
        "colab_type": "code",
        "outputId": "23167c5f-8560-4889-afff-6c5cb14c77a0",
        "colab": {
          "base_uri": "https://localhost:8080/",
          "height": 68
        }
      },
      "source": [
        "%%time\n",
        "model.load_state_dict(torch.load(model_path, map_location=device))"
      ],
      "execution_count": 39,
      "outputs": [
        {
          "output_type": "stream",
          "text": [
            "CPU times: user 92.8 ms, sys: 240 ms, total: 333 ms\n",
            "Wall time: 339 ms\n"
          ],
          "name": "stdout"
        },
        {
          "output_type": "execute_result",
          "data": {
            "text/plain": [
              "IncompatibleKeys(missing_keys=[], unexpected_keys=[])"
            ]
          },
          "metadata": {
            "tags": []
          },
          "execution_count": 39
        }
      ]
    },
    {
      "cell_type": "code",
      "metadata": {
        "id": "AUJIKtiINAHb",
        "colab_type": "code",
        "colab": {}
      },
      "source": [
        "def get_reply(msg):\n",
        "  model.eval()\n",
        "  input_msg, _ = prepare_features(msg)\n",
        "  if torch.cuda.is_available():\n",
        "    input_msg = input_msg.cuda()\n",
        "  output = model(input_msg)[0]\n",
        "  pred_score, pred_label = torch.max(output.data, 1)\n",
        "  \n",
        "  prediction=list(label_to_ix.keys())[pred_label]\n",
        "  return prediction,pred_score.cpu().numpy()[0]"
      ],
      "execution_count": 0,
      "outputs": []
    },
    {
      "cell_type": "code",
      "metadata": {
        "id": "QTMIQUTWNmEp",
        "colab_type": "code",
        "outputId": "f6a3725d-69bd-486a-e9c6-a3188e284ca1",
        "colab": {
          "base_uri": "https://localhost:8080/",
          "height": 34
        }
      },
      "source": [
        "label_to_ix.keys()"
      ],
      "execution_count": 80,
      "outputs": [
        {
          "output_type": "execute_result",
          "data": {
            "text/plain": [
              "dict_keys(['AddToPlaylist', 'BookRestaurant', 'GetWeather', 'PlayMusic', 'RateBook', 'SearchCreativeWork', 'SearchScreeningEvent'])"
            ]
          },
          "metadata": {
            "tags": []
          },
          "execution_count": 80
        }
      ]
    },
    {
      "cell_type": "code",
      "metadata": {
        "id": "UqEuS5a-NkGo",
        "colab_type": "code",
        "outputId": "60c8fdfb-e794-46f9-f494-e2cb9125e4e9",
        "colab": {
          "base_uri": "https://localhost:8080/",
          "height": 34
        }
      },
      "source": [
        "get_reply(\"play radiohead song\")"
      ],
      "execution_count": 81,
      "outputs": [
        {
          "output_type": "execute_result",
          "data": {
            "text/plain": [
              "('PlayMusic', 5.4527564)"
            ]
          },
          "metadata": {
            "tags": []
          },
          "execution_count": 81
        }
      ]
    },
    {
      "cell_type": "code",
      "metadata": {
        "id": "PoAquwkMO8mB",
        "colab_type": "code",
        "outputId": "ae605d94-e4e6-4c58-cfc7-855cef02423e",
        "colab": {
          "base_uri": "https://localhost:8080/",
          "height": 34
        }
      },
      "source": [
        "get_reply(\"it is rainy in Sao Paulo\")"
      ],
      "execution_count": 96,
      "outputs": [
        {
          "output_type": "execute_result",
          "data": {
            "text/plain": [
              "('GetWeather', 4.8741484)"
            ]
          },
          "metadata": {
            "tags": []
          },
          "execution_count": 96
        }
      ]
    },
    {
      "cell_type": "code",
      "metadata": {
        "id": "pBVApLSXimEa",
        "colab_type": "code",
        "outputId": "ae9e431b-c89b-4a5c-dfba-490ce4bda66f",
        "colab": {
          "base_uri": "https://localhost:8080/",
          "height": 34
        }
      },
      "source": [
        "get_reply(\"sun shinnes all day\")"
      ],
      "execution_count": 95,
      "outputs": [
        {
          "output_type": "execute_result",
          "data": {
            "text/plain": [
              "('PlayMusic', 4.7038445)"
            ]
          },
          "metadata": {
            "tags": []
          },
          "execution_count": 95
        }
      ]
    },
    {
      "cell_type": "code",
      "metadata": {
        "id": "uu5LiiHOip6l",
        "colab_type": "code",
        "outputId": "8d531d61-6340-4708-82c3-2fd4cf9ac53a",
        "colab": {
          "base_uri": "https://localhost:8080/",
          "height": 34
        }
      },
      "source": [
        "get_reply(\"low humidity, high altitude\")"
      ],
      "execution_count": 94,
      "outputs": [
        {
          "output_type": "execute_result",
          "data": {
            "text/plain": [
              "('PlayMusic', 4.1896024)"
            ]
          },
          "metadata": {
            "tags": []
          },
          "execution_count": 94
        }
      ]
    },
    {
      "cell_type": "code",
      "metadata": {
        "id": "lZjsxgEIO8g0",
        "colab_type": "code",
        "outputId": "04dd411b-9b70-4ff3-8d85-afd35dc0c27e",
        "colab": {
          "base_uri": "https://localhost:8080/",
          "height": 34
        }
      },
      "source": [
        "get_reply(\"Book tacos for me tonight\")"
      ],
      "execution_count": 93,
      "outputs": [
        {
          "output_type": "execute_result",
          "data": {
            "text/plain": [
              "('BookRestaurant', 4.493275)"
            ]
          },
          "metadata": {
            "tags": []
          },
          "execution_count": 93
        }
      ]
    },
    {
      "cell_type": "code",
      "metadata": {
        "id": "a0NOU4AuO8VA",
        "colab_type": "code",
        "outputId": "8bc02160-af1b-4aa9-f626-1d3963ec5a98",
        "colab": {
          "base_uri": "https://localhost:8080/",
          "height": 34
        }
      },
      "source": [
        "get_reply(\"Book a table for me tonight\")"
      ],
      "execution_count": 92,
      "outputs": [
        {
          "output_type": "execute_result",
          "data": {
            "text/plain": [
              "('BookRestaurant', 5.5600758)"
            ]
          },
          "metadata": {
            "tags": []
          },
          "execution_count": 92
        }
      ]
    },
    {
      "cell_type": "code",
      "metadata": {
        "id": "YLX3-pmy2khU",
        "colab_type": "code",
        "outputId": "27b083a4-3cdb-4a54-b879-996a2ab650a1",
        "colab": {
          "base_uri": "https://localhost:8080/",
          "height": 34
        }
      },
      "source": [
        "get_reply(\"I want BBQ tonight under the rain\")"
      ],
      "execution_count": 97,
      "outputs": [
        {
          "output_type": "execute_result",
          "data": {
            "text/plain": [
              "('SearchCreativeWork', 3.6009989)"
            ]
          },
          "metadata": {
            "tags": []
          },
          "execution_count": 97
        }
      ]
    },
    {
      "cell_type": "code",
      "metadata": {
        "id": "oESeGpxL2mqR",
        "colab_type": "code",
        "colab": {}
      },
      "source": [
        ""
      ],
      "execution_count": 0,
      "outputs": []
    }
  ]
}